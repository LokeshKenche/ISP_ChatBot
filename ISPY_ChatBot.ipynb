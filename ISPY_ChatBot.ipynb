{
  "cells": [
    {
      "cell_type": "code",
      "source": [
        "#ISPY CHATBOT (ChatBot for Internet Service Provider)"
      ],
      "metadata": {
        "id": "dZhbtk3kcshe"
      },
      "execution_count": null,
      "outputs": []
    },
    {
      "cell_type": "code",
      "execution_count": null,
      "metadata": {
        "colab": {
          "base_uri": "https://localhost:8080/"
        },
        "id": "ntbPVTvPVFkx",
        "outputId": "bc7541b8-0163-4e31-a7d5-b2977f72d620"
      },
      "outputs": [
        {
          "output_type": "stream",
          "name": "stdout",
          "text": [
            "Looking in indexes: https://pypi.org/simple, https://us-python.pkg.dev/colab-wheels/public/simple/\n",
            "Requirement already satisfied: nltk in /usr/local/lib/python3.8/dist-packages (3.7)\n",
            "Requirement already satisfied: click in /usr/local/lib/python3.8/dist-packages (from nltk) (7.1.2)\n",
            "Requirement already satisfied: tqdm in /usr/local/lib/python3.8/dist-packages (from nltk) (4.64.1)\n",
            "Requirement already satisfied: joblib in /usr/local/lib/python3.8/dist-packages (from nltk) (1.2.0)\n",
            "Requirement already satisfied: regex>=2021.8.3 in /usr/local/lib/python3.8/dist-packages (from nltk) (2022.6.2)\n"
          ]
        }
      ],
      "source": [
        "pip install nltk"
      ]
    },
    {
      "cell_type": "code",
      "execution_count": null,
      "metadata": {
        "colab": {
          "base_uri": "https://localhost:8080/"
        },
        "id": "7H1Ww-_4XPdk",
        "outputId": "a17cc0d6-854e-4896-ae20-3f029445a0e3"
      },
      "outputs": [
        {
          "output_type": "stream",
          "name": "stdout",
          "text": [
            "Looking in indexes: https://pypi.org/simple, https://us-python.pkg.dev/colab-wheels/public/simple/\n",
            "Collecting newspaper3k\n",
            "  Downloading newspaper3k-0.2.8-py3-none-any.whl (211 kB)\n",
            "\u001b[2K     \u001b[90m━━━━━━━━━━━━━━━━━━━━━━━━━━━━━━━━━━━━━━\u001b[0m \u001b[32m211.1/211.1 KB\u001b[0m \u001b[31m17.9 MB/s\u001b[0m eta \u001b[36m0:00:00\u001b[0m\n",
            "\u001b[?25hRequirement already satisfied: PyYAML>=3.11 in /usr/local/lib/python3.8/dist-packages (from newspaper3k) (6.0)\n",
            "Collecting jieba3k>=0.35.1\n",
            "  Downloading jieba3k-0.35.1.zip (7.4 MB)\n",
            "\u001b[2K     \u001b[90m━━━━━━━━━━━━━━━━━━━━━━━━━━━━━━━━━━━━━━━━\u001b[0m \u001b[32m7.4/7.4 MB\u001b[0m \u001b[31m85.3 MB/s\u001b[0m eta \u001b[36m0:00:00\u001b[0m\n",
            "\u001b[?25h  Preparing metadata (setup.py) ... \u001b[?25l\u001b[?25hdone\n",
            "Requirement already satisfied: lxml>=3.6.0 in /usr/local/lib/python3.8/dist-packages (from newspaper3k) (4.9.2)\n",
            "Requirement already satisfied: Pillow>=3.3.0 in /usr/local/lib/python3.8/dist-packages (from newspaper3k) (7.1.2)\n",
            "Collecting cssselect>=0.9.2\n",
            "  Downloading cssselect-1.2.0-py2.py3-none-any.whl (18 kB)\n",
            "Requirement already satisfied: python-dateutil>=2.5.3 in /usr/local/lib/python3.8/dist-packages (from newspaper3k) (2.8.2)\n",
            "Collecting feedfinder2>=0.0.4\n",
            "  Downloading feedfinder2-0.0.4.tar.gz (3.3 kB)\n",
            "  Preparing metadata (setup.py) ... \u001b[?25l\u001b[?25hdone\n",
            "Collecting tinysegmenter==0.3\n",
            "  Downloading tinysegmenter-0.3.tar.gz (16 kB)\n",
            "  Preparing metadata (setup.py) ... \u001b[?25l\u001b[?25hdone\n",
            "Collecting tldextract>=2.0.1\n",
            "  Downloading tldextract-3.4.0-py3-none-any.whl (93 kB)\n",
            "\u001b[2K     \u001b[90m━━━━━━━━━━━━━━━━━━━━━━━━━━━━━━━━━━━━━━━━\u001b[0m \u001b[32m93.9/93.9 KB\u001b[0m \u001b[31m11.8 MB/s\u001b[0m eta \u001b[36m0:00:00\u001b[0m\n",
            "\u001b[?25hRequirement already satisfied: nltk>=3.2.1 in /usr/local/lib/python3.8/dist-packages (from newspaper3k) (3.7)\n",
            "Collecting feedparser>=5.2.1\n",
            "  Downloading feedparser-6.0.10-py3-none-any.whl (81 kB)\n",
            "\u001b[2K     \u001b[90m━━━━━━━━━━━━━━━━━━━━━━━━━━━━━━━━━━━━━━━━\u001b[0m \u001b[32m81.1/81.1 KB\u001b[0m \u001b[31m7.7 MB/s\u001b[0m eta \u001b[36m0:00:00\u001b[0m\n",
            "\u001b[?25hRequirement already satisfied: beautifulsoup4>=4.4.1 in /usr/local/lib/python3.8/dist-packages (from newspaper3k) (4.6.3)\n",
            "Requirement already satisfied: requests>=2.10.0 in /usr/local/lib/python3.8/dist-packages (from newspaper3k) (2.25.1)\n",
            "Requirement already satisfied: six in /usr/local/lib/python3.8/dist-packages (from feedfinder2>=0.0.4->newspaper3k) (1.15.0)\n",
            "Collecting sgmllib3k\n",
            "  Downloading sgmllib3k-1.0.0.tar.gz (5.8 kB)\n",
            "  Preparing metadata (setup.py) ... \u001b[?25l\u001b[?25hdone\n",
            "Requirement already satisfied: click in /usr/local/lib/python3.8/dist-packages (from nltk>=3.2.1->newspaper3k) (7.1.2)\n",
            "Requirement already satisfied: regex>=2021.8.3 in /usr/local/lib/python3.8/dist-packages (from nltk>=3.2.1->newspaper3k) (2022.6.2)\n",
            "Requirement already satisfied: joblib in /usr/local/lib/python3.8/dist-packages (from nltk>=3.2.1->newspaper3k) (1.2.0)\n",
            "Requirement already satisfied: tqdm in /usr/local/lib/python3.8/dist-packages (from nltk>=3.2.1->newspaper3k) (4.64.1)\n",
            "Requirement already satisfied: chardet<5,>=3.0.2 in /usr/local/lib/python3.8/dist-packages (from requests>=2.10.0->newspaper3k) (4.0.0)\n",
            "Requirement already satisfied: idna<3,>=2.5 in /usr/local/lib/python3.8/dist-packages (from requests>=2.10.0->newspaper3k) (2.10)\n",
            "Requirement already satisfied: certifi>=2017.4.17 in /usr/local/lib/python3.8/dist-packages (from requests>=2.10.0->newspaper3k) (2022.12.7)\n",
            "Requirement already satisfied: urllib3<1.27,>=1.21.1 in /usr/local/lib/python3.8/dist-packages (from requests>=2.10.0->newspaper3k) (1.24.3)\n",
            "Collecting requests-file>=1.4\n",
            "  Downloading requests_file-1.5.1-py2.py3-none-any.whl (3.7 kB)\n",
            "Requirement already satisfied: filelock>=3.0.8 in /usr/local/lib/python3.8/dist-packages (from tldextract>=2.0.1->newspaper3k) (3.9.0)\n",
            "Building wheels for collected packages: tinysegmenter, feedfinder2, jieba3k, sgmllib3k\n",
            "  Building wheel for tinysegmenter (setup.py) ... \u001b[?25l\u001b[?25hdone\n",
            "  Created wheel for tinysegmenter: filename=tinysegmenter-0.3-py3-none-any.whl size=13552 sha256=64830074b298acf631d284ec520f3dbf04610ba6cc6748cb57e6b19175c30740\n",
            "  Stored in directory: /root/.cache/pip/wheels/99/74/83/8fac1c8d9c648cfabebbbffe97a889f6624817f3aa0bbe6c09\n",
            "  Building wheel for feedfinder2 (setup.py) ... \u001b[?25l\u001b[?25hdone\n",
            "  Created wheel for feedfinder2: filename=feedfinder2-0.0.4-py3-none-any.whl size=3354 sha256=883272b34b2c69d5917c9e0fbe32bb6987ee163429a258cf1e519962d85b6824\n",
            "  Stored in directory: /root/.cache/pip/wheels/b6/09/68/a9f15498ac02c23dde29f18745bc6a6f574ba4ab41861a3575\n",
            "  Building wheel for jieba3k (setup.py) ... \u001b[?25l\u001b[?25hdone\n",
            "  Created wheel for jieba3k: filename=jieba3k-0.35.1-py3-none-any.whl size=7398405 sha256=039c3e803beba783298605ea57784b8365619d20bdabf049059d9c9406b9e031\n",
            "  Stored in directory: /root/.cache/pip/wheels/1f/7e/0c/54f3b0f5164278677899f2db08f2b07943ce2d024a3c862afb\n",
            "  Building wheel for sgmllib3k (setup.py) ... \u001b[?25l\u001b[?25hdone\n",
            "  Created wheel for sgmllib3k: filename=sgmllib3k-1.0.0-py3-none-any.whl size=6066 sha256=4567d98cc42b1ed7e416b76f09b428af69132ca929e7cc34ab930890a4056038\n",
            "  Stored in directory: /root/.cache/pip/wheels/83/63/2f/117884c3b19d46b64d3d61690333aa80c88dc14050e269c546\n",
            "Successfully built tinysegmenter feedfinder2 jieba3k sgmllib3k\n",
            "Installing collected packages: tinysegmenter, sgmllib3k, jieba3k, feedparser, cssselect, requests-file, feedfinder2, tldextract, newspaper3k\n",
            "Successfully installed cssselect-1.2.0 feedfinder2-0.0.4 feedparser-6.0.10 jieba3k-0.35.1 newspaper3k-0.2.8 requests-file-1.5.1 sgmllib3k-1.0.0 tinysegmenter-0.3 tldextract-3.4.0\n"
          ]
        }
      ],
      "source": [
        "pip install newspaper3k"
      ]
    },
    {
      "cell_type": "code",
      "execution_count": null,
      "metadata": {
        "id": "RYHIcj7IVUWh"
      },
      "outputs": [],
      "source": [
        "#Import Libraries\n",
        "from newspaper import Article\n",
        "import random\n",
        "import string\n",
        "import nltk\n",
        "from sklearn.feature_extraction.text import CountVectorizer\n",
        "from sklearn.metrics.pairwise import cosine_similarity\n",
        "import numpy as np\n",
        "import warnings\n",
        "warnings.filterwarnings('ignore')"
      ]
    },
    {
      "cell_type": "code",
      "execution_count": null,
      "metadata": {
        "colab": {
          "base_uri": "https://localhost:8080/"
        },
        "id": "idsSGDaDXaU7",
        "outputId": "a6ab2606-b23d-4fdc-8db1-863da1dbe203"
      },
      "outputs": [
        {
          "output_type": "execute_result",
          "data": {
            "text/plain": [
              "True"
            ]
          },
          "metadata": {},
          "execution_count": 4
        }
      ],
      "source": [
        "#Download punkt Package\n",
        "nltk.download('punkt', quiet=True)"
      ]
    },
    {
      "cell_type": "code",
      "execution_count": null,
      "metadata": {
        "id": "lb-gC_CWXtkA"
      },
      "outputs": [],
      "source": [
        "#get the article\n",
        "article= Article('https://en.wikipedia.org/wiki/Chatbot')\n",
        "article.download()\n",
        "article.parse()\n",
        "article.nlp()\n",
        "corpus = article.text\n"
      ]
    },
    {
      "cell_type": "code",
      "execution_count": null,
      "metadata": {
        "colab": {
          "base_uri": "https://localhost:8080/"
        },
        "id": "l4XEZ3XaYNWW",
        "outputId": "fe2cfd57-68a2-47fc-ca04-1c9b29ba0460"
      },
      "outputs": [
        {
          "output_type": "stream",
          "name": "stdout",
          "text": [
            "Program that simulates conversation\n",
            "\n",
            "A chatbot or chatterbot is a software application used to conduct an online chat conversation via text or text-to-speech, in lieu of providing direct contact with a live human agent.[1][2] Chatbots are computer programs that are capable of maintaining a conversation with a user in natural language, understanding their intent, and replying based on preset rules and data. Designed to convincingly simulate the way a human would behave as a conversational partner, chatbot systems typically require continuous tuning and testing with many in production unable to adequately converse; in 2012 none of them could pass the standard Turing test.[3] The term \"ChatterBot\" was originally coined by Michael Mauldin (creator of the first Verbot) in 1994 to describe these conversational programs.[4]\n",
            "\n",
            "Chatbots are used in dialog systems for various purposes including customer service, request routing, or information gathering. While some chatbot applications use extensive word-classification processes, natural-language processors, and sophisticated AI, others simply scan for general keywords and generate responses using common phrases obtained from an associated library or database.\n",
            "\n",
            "Most chatbots are accessed on-line via website popups or through virtual assistants. They can be classified into usage categories that include: commerce (e-commerce via chat), education, entertainment, finance, health, news, and productivity.[5]\n",
            "\n",
            "Background [ edit ]\n",
            "\n",
            "In 1950, Alan Turing's famous article \"Computing Machinery and Intelligence\" was published,[6] which proposed what is now called the Turing test as a criterion of intelligence. This criterion depends on the ability of a computer program to impersonate a human in a real-time written conversation with a human judge to the extent that the judge is unable to distinguish reliably—on the basis of the conversational content alone—between the program and a real human. The notoriety of Turing's proposed test stimulated great interest in Joseph Weizenbaum's program ELIZA, published in 1966, which seemed to be able to fool users into believing that they were conversing with a real human. However Weizenbaum himself did not claim that ELIZA was genuinely intelligent, and the introduction to his paper presented it more as a debunking exercise:\n",
            "\n",
            "[In] artificial intelligence ... machines are made to behave in wondrous ways, often sufficient to dazzle even the most experienced observer. But once a particular program is unmasked, once its inner workings are explained ... its magic crumbles away; it stands revealed as a mere collection of procedures ... The observer says to himself \"I could have written that\". With that thought, he moves the program in question from the shelf marked \"intelligent\", to that reserved for curios ... The object of this paper is to cause just such a re-evaluation of the program about to be \"explained\". Few programs ever needed it more.[7]\n",
            "\n",
            "ELIZA's key method of operation (copied by chatbot designers ever since) involves the recognition of clue words or phrases in the input, and the output of the corresponding pre-prepared or pre-programmed responses that can move the conversation forward in an apparently meaningful way (e.g. by responding to any input that contains the word 'MOTHER' with 'TELL ME MORE ABOUT YOUR FAMILY').[8] Thus an illusion of understanding is generated, even though the processing involved has been merely superficial. ELIZA showed that such an illusion is surprisingly easy to generate because human judges are so ready to give the benefit of the doubt when conversational responses are capable of being interpreted as \"intelligent\".\n",
            "\n",
            "Interface designers have come to appreciate that humans' readiness to interpret computer output as genuinely conversational—even when it is actually based on rather simple pattern-matching—can be exploited for useful purposes. Most people prefer to engage with programs that are human-like, and this gives chatbot-style techniques a potentially useful role in interactive systems that need to elicit information from users, as long as that information is relatively straightforward and falls into predictable categories. Thus, for example, online help systems can usefully employ chatbot techniques to identify the area of help that users require, potentially providing a \"friendlier\" interface than a more formal search or menu system. This sort of usage holds the prospect of moving chatbot technology from Weizenbaum's \"shelf ... reserved for curios\" to that marked \"genuinely useful computational methods\".\n",
            "\n",
            "Development [ edit ]\n",
            "\n",
            "Among the most notable early chatbots are ELIZA (1966) and PARRY (1972).[9][10][11][12] More recent notable programs include A.L.I.C.E., Jabberwacky and D.U.D.E (Agence Nationale de la Recherche and CNRS 2006). While ELIZA and PARRY were used exclusively to simulate typed conversation, many chatbots now include other functional features, such as games and web searching abilities. In 1984, a book called The Policeman's Beard is Half Constructed was published, allegedly written by the chatbot Racter (though the program as released would not have been capable of doing so).[13]\n",
            "\n",
            "One pertinent field of AI research is natural-language processing. Usually, weak AI fields employ specialized software or programming languages created specifically for the narrow function required. For example, A.L.I.C.E. uses a markup language called AIML,[2] which is specific to its function as a conversational agent, and has since been adopted by various other developers of, so-called, Alicebots. Nevertheless, A.L.I.C.E. is still purely based on pattern matching techniques without any reasoning capabilities, the same technique ELIZA was using back in 1966. This is not strong AI, which would require sapience and logical reasoning abilities.\n",
            "\n",
            "Jabberwacky learns new responses and context based on real-time user interactions, rather than being driven from a static database. Some more recent chatbots also combine real-time learning with evolutionary algorithms that optimize their ability to communicate based on each conversation held. Still, there is currently no general purpose conversational artificial intelligence, and some software developers focus on the practical aspect, information retrieval.\n",
            "\n",
            "Chatbot competitions focus on the Turing test or more specific goals. Two such annual contests are the Loebner Prize and The Chatterbox Challenge (the latter has been offline since 2015, however, materials can still be found from web archives).[14]\n",
            "\n",
            "Chatbots may use the generative pre-trained transformer (GPT) language model. It uses the transformer machine learning model. The \"pre-training\" in its name refers to the initial training process on a large text corpus, which provides a solid foundation for the model to perform well on downstream tasks with limited amounts of task-specific data. An example of a GPT chatbot is ChatGPT. Despite criticism of its accuracy, ChatGPT has gained attention for its detailed responses and historical knowledge. Another example is BioGPT, developed by Microsoft, which focuses on answering biomedical questions.[15][16]\n",
            "\n",
            "DBpedia created a chatbot during the GSoC of 2017.[17][18][19] It can communicate through Facebook Messenger.\n",
            "\n",
            "Application [ edit ]\n",
            "\n",
            "Messaging apps [ edit ]\n",
            "\n",
            "Many companies' chatbots run on messaging apps or simply via SMS. They are used for B2C customer service, sales and marketing.[20]\n",
            "\n",
            "In 2016, Facebook Messenger allowed developers to place chatbots on their platform. There were 30,000 bots created for Messenger in the first six months, rising to 100,000 by September 2017.[21]\n",
            "\n",
            "Since September 2017, this has also been as part of a pilot program on WhatsApp. Airlines KLM and Aeroméxico both announced their participation in the testing;[22][23][24][25] both airlines had previously launched customer services on the Facebook Messenger platform.\n",
            "\n",
            "The bots usually appear as one of the user's contacts, but can sometimes act as participants in a group chat.\n",
            "\n",
            "Many banks, insurers, media companies, e-commerce companies, airlines, hotel chains, retailers, health care providers, government entities and restaurant chains have used chatbots to answer simple questions, increase customer engagement,[26] for promotion, and to offer additional ways to order from them.[27]\n",
            "\n",
            "A 2017 study showed 4% of companies used chatbots.[28] According to a 2016 study, 80% of businesses said they intended to have one by 2020.[29]\n",
            "\n",
            "As part of company apps and websites [ edit ]\n",
            "\n",
            "Previous generations of chatbots were present on company websites, e.g. Ask Jenn from Alaska Airlines which debuted in 2008[30] or Expedia's virtual customer service agent which launched in 2011.[30][31] The newer generation of chatbots includes IBM Watson-powered \"Rocky\", introduced in February 2017 by the New York City-based e-commerce company Rare Carat to provide information to prospective diamond buyers.[32][33]\n",
            "\n",
            "Chatbot sequences [ edit ]\n",
            "\n",
            "Used by marketers to script sequences of messages, very similar to an Autoresponder sequence. Such sequences can be triggered by user opt-in or the use of keywords within user interactions. After a trigger occurs a sequence of messages is delivered until the next anticipated user response. Each user response is used in the decision tree to help the chatbot navigate the response sequences to deliver the correct response message.\n",
            "\n",
            "Company internal platforms [ edit ]\n",
            "\n",
            "Other companies explore ways they can use chatbots internally, for example for Customer Support, Human Resources, or even in Internet-of-Things (IoT) projects. Overstock.com, for one, has reportedly launched a chatbot named Mila to automate certain simple yet time-consuming processes when requesting sick leave.[34] Other large companies such as Lloyds Banking Group, Royal Bank of Scotland, Renault and Citroën are now using automated online assistants instead of call centres with humans to provide a first point of contact. A SaaS chatbot business ecosystem has been steadily growing since the F8 Conference when Facebook's Mark Zuckerberg unveiled that Messenger would allow chatbots into the app.[35] In large companies, like in hospitals and aviation organizations, IT architects are designing reference architectures for Intelligent Chatbots that are used to unlock and share knowledge and experience in the organization more efficiently, and reduce the errors in answers from expert service desks significantly.[36] These Intelligent Chatbots make use of all kinds of artificial intelligence like image moderation and natural-language understanding (NLU), natural-language generation (NLG), machine learning and deep learning.\n",
            "\n",
            "Customer service [ edit ]\n",
            "\n",
            "Many high-tech banking organizations are looking to integrate automated AI-based solutions such as chatbots into their customer service in order to provide faster and cheaper assistance to their clients who are becoming increasingly comfortable with technology. In particular, chatbots can efficiently conduct a dialogue, usually replacing other communication tools such as email, phone, or SMS. In banking, their major application is related to quick customer service answering common requests, as well as transactional support.\n",
            "\n",
            "Several studies report significant reduction in the cost of customer services, expected to lead to billions of dollars of economic savings in the next ten years.[37] In 2019, Gartner predicted that by 2021, 15% of all customer service interactions globally will be handled completely by AI.[38] A study by Juniper Research in 2019 estimates retail sales resulting from chatbot-based interactions will reach $112 billion by 2023.[39]\n",
            "\n",
            "Since 2016, when Facebook allowed businesses to deliver automated customer support, e-commerce guidance, content, and interactive experiences through chatbots, a large variety of chatbots were developed for the Facebook Messenger platform.[40]\n",
            "\n",
            "In 2016, Russia-based Tochka Bank launched the world's first Facebook bot for a range of financial services, including a possibility of making payments.[41]\n",
            "\n",
            "In July 2016, Barclays Africa also launched a Facebook chatbot, making it the first bank to do so in Africa.[42]\n",
            "\n",
            "The France's third-largest bank by total assets[43] Société Générale launched their chatbot called SoBot in March 2018. While 80% of users of the SoBot expressed their satisfaction after having tested it, Société Générale deputy director Bertrand Cozzarolo stated that it will never replace the expertise provided by a human advisor. [44]\n",
            "\n",
            "The advantages of using chatbots for customer interactions in banking include cost reduction, financial advice, and 24/7 support.[45][46]\n",
            "\n",
            "Healthcare [ edit ]\n",
            "\n",
            "Chatbots are also appearing in the healthcare industry.[47][48] A study suggested that physicians in the United States believed that chatbots would be most beneficial for scheduling doctor appointments, locating health clinics, or providing medication information.[49]\n",
            "\n",
            "Whatsapp has teamed up with the World Health Organisation (WHO) to make a chatbot service that answers users’ questions on COVID-19.[50]\n",
            "\n",
            "In 2020, The Indian Government launched a chatbot called MyGov Corona Helpdesk,[51] that worked through Whatsapp and helped people access information about the Coronavirus (COVID-19) pandemic.[52][53]\n",
            "\n",
            "Certain patient groups are still reluctant to use chatbots. A mixed-methods study showed that people are still hesitant to use chatbots for their healthcare due to poor understanding of the technological complexity, the lack of empathy, and concerns about cyber-security.[54] The analysis showed that while 6% had heard of a health chatbot and 3% had experience of using it, 67% perceived themselves as likely to use one within 12 months. The majority of participants would use a health chatbot for seeking general health information (78%), booking a medical appointment (78%), and looking for local health services (80%). However, a health chatbot was perceived as less suitable for seeking results of medical tests and seeking specialist advice such as sexual health. The analysis of attitudinal variables showed that most participants reported their preference for discussing their health with doctors (73%) and having access to reliable and accurate health information (93%). While 80% were curious about new technologies that could improve their health, 66% reported only seeking a doctor when experiencing a health problem and 65% thought that a chatbot was a good idea. Interestingly, 30% reported dislike about talking to computers, 41% felt it would be strange to discuss health matters with a chatbot and about half were unsure if they could trust the advice given by a chatbot. Therefore, perceived trustworthiness, individual attitudes towards bots, and dislike for talking to computers are the main barriers to health chatbots.\n",
            "\n",
            "Politics [ edit ]\n",
            "\n",
            "In New Zealand, the chatbot SAM – short for Semantic Analysis Machine[55] (made by Nick Gerritsen of Touchtech[56]) – has been developed. It is designed to share its political thoughts, for example on topics such as climate change, healthcare and education, etc. It talks to people through Facebook Messenger.[57][58][59][60]\n",
            "\n",
            "In 2022, the chatbot \"Leader Lars\" or \"Leder Lars\" was nominated for The Synthetic Party to run in the Danish parliamentary election,[61] and was built by the artist collective Computer Lars.[62] Leader Lars differed from earlier virtual politicians by leading a political party and by not pretending to be an objective candidate.[63] This chatbot engaged in critical discussions on politics with users from around the world.[64]\n",
            "\n",
            "In India, the state government has launched a chatbot for its Aaple Sarkar platform,[65] which provides conversational access to information regarding public services managed.[66][67]\n",
            "\n",
            "Toys [ edit ]\n",
            "\n",
            "Chatbots have also been incorporated into devices not primarily meant for computing, such as toys.[68]\n",
            "\n",
            "Hello Barbie is an Internet-connected version of the doll that uses a chatbot provided by the company ToyTalk,[69] which previously used the chatbot for a range of smartphone-based characters for children.[70] These characters' behaviors are constrained by a set of rules that in effect emulate a particular character and produce a storyline.[71]\n",
            "\n",
            "The My Friend Cayla doll was marketed as a line of 18-inch (46 cm) dolls which uses speech recognition technology in conjunction with an Android or iOS mobile app to recognize the child's speech and have a conversation. It, like the Hello Barbie doll, attracted controversy due to vulnerabilities with the doll's Bluetooth stack and its use of data collected from the child's speech.\n",
            "\n",
            "IBM's Watson computer has been used as the basis for chatbot-based educational toys for companies such as CogniToys[68] intended to interact with children for educational purposes.[72]\n",
            "\n",
            "Malicious use [ edit ]\n",
            "\n",
            "Malicious chatbots are frequently used to fill chat rooms with spam and advertisements, by mimicking human behavior and conversations or to entice people into revealing personal information, such as bank account numbers. They were commonly found on Yahoo! Messenger, Windows Live Messenger, AOL Instant Messenger and other instant messaging protocols. There has also been a published report of a chatbot used in a fake personal ad on a dating service's website.[73]\n",
            "\n",
            "Tay, an AI chatbot that learns from previous interaction, caused major controversy due to it being targeted by internet trolls on Twitter. The bot was exploited, and after 16 hours began to send extremely offensive Tweets to users. This suggests that although the bot learned effectively from experience, adequate protection was not put in place to prevent misuse.[74]\n",
            "\n",
            "If a text-sending algorithm can pass itself off as a human instead of a chatbot, its message would be more credible. Therefore, human-seeming chatbots with well-crafted online identities could start scattering fake news that seems plausible, for instance making false claims during an election. With enough chatbots, it might be even possible to achieve artificial social proof.[75][76]\n",
            "\n",
            "Limitations of chatbots [ edit ]\n",
            "\n",
            "The creation and implementation of chatbots is still a developing area, heavily related to artificial intelligence and machine learning, so the provided solutions, while possessing obvious advantages, have some important limitations in terms of functionalities and use cases. However, this is changing over time.\n",
            "\n",
            "The most common limitations are listed below:[77]\n",
            "\n",
            "As the input/output database is fixed and limited, chatbots can fail while dealing with an unsaved query. [46]\n",
            "\n",
            "A chatbot's efficiency highly depends on language processing and is limited because of irregularities, such as accents and mistakes.\n",
            "\n",
            "Chatbots are unable to deal with multiple questions at the same time and so conversation opportunities are limited. [77]\n",
            "\n",
            "Chatbots require a large amount of conversational data to train. Generative models, which are based on deep learning algorithms to generate new responses word by word based on user input, are usually trained on a large dataset of natural-language phrases. [2]\n",
            "\n",
            "Chatbots have difficulty managing non-linear conversations that must go back and forth on a topic with a user. [78]\n",
            "\n",
            "As it happens usually with technology-led changes in existing services, some consumers, more often than not from older generations, are uncomfortable with chatbots due to their limited understanding, making it obvious that their requests are being dealt with by machines.[77]\n",
            "\n",
            "Chatbots and jobs [ edit ]\n",
            "\n",
            "Chatbots are increasingly present in businesses and often are used to automate tasks that do not require skill-based talents. With customer service taking place via messaging apps as well as phone calls, there are growing numbers of use-cases where chatbot deployment gives organizations a clear return on investment. Call center workers may be particularly at risk from AI-driven chatbots.[79]\n",
            "\n",
            "Chatbot jobs\n",
            "\n",
            "Chatbot developers create, debug, and maintain applications that automate customer services or other communication processes. Their duties include reviewing and simplifying code when needed. They may also help companies implement bots in their operations.\n",
            "\n",
            "A study by Forrester (June 2017) predicted that 25% of all jobs would be impacted by AI technologies by 2019.[80]\n",
            "\n",
            "See also [ edit ]\n",
            "\n",
            "References [ edit ]\n",
            "\n",
            "Bibliography [ edit ]\n",
            "\n",
            "Further reading [ edit ]\n"
          ]
        }
      ],
      "source": [
        "#Print the article text\n",
        "print(corpus)"
      ]
    },
    {
      "cell_type": "code",
      "execution_count": null,
      "metadata": {
        "id": "h5OMFgknYUGe"
      },
      "outputs": [],
      "source": [
        "#Tokentization\n",
        "text = corpus\n",
        "sentence_list = nltk.sent_tokenize(text)"
      ]
    },
    {
      "cell_type": "code",
      "execution_count": null,
      "metadata": {
        "colab": {
          "base_uri": "https://localhost:8080/"
        },
        "id": "O8TKOM2SYkKN",
        "outputId": "58b5f16f-1732-4ba6-e3f9-d142c68b0241"
      },
      "outputs": [
        {
          "output_type": "stream",
          "name": "stdout",
          "text": [
            "['Program that simulates conversation\\n\\nA chatbot or chatterbot is a software application used to conduct an online chat conversation via text or text-to-speech, in lieu of providing direct contact with a live human agent.', '[1][2] Chatbots are computer programs that are capable of maintaining a conversation with a user in natural language, understanding their intent, and replying based on preset rules and data.', 'Designed to convincingly simulate the way a human would behave as a conversational partner, chatbot systems typically require continuous tuning and testing with many in production unable to adequately converse; in 2012 none of them could pass the standard Turing test.', '[3] The term \"ChatterBot\" was originally coined by Michael Mauldin (creator of the first Verbot) in 1994 to describe these conversational programs.', '[4]\\n\\nChatbots are used in dialog systems for various purposes including customer service, request routing, or information gathering.', 'While some chatbot applications use extensive word-classification processes, natural-language processors, and sophisticated AI, others simply scan for general keywords and generate responses using common phrases obtained from an associated library or database.', 'Most chatbots are accessed on-line via website popups or through virtual assistants.', 'They can be classified into usage categories that include: commerce (e-commerce via chat), education, entertainment, finance, health, news, and productivity.', '[5]\\n\\nBackground [ edit ]\\n\\nIn 1950, Alan Turing\\'s famous article \"Computing Machinery and Intelligence\" was published,[6] which proposed what is now called the Turing test as a criterion of intelligence.', 'This criterion depends on the ability of a computer program to impersonate a human in a real-time written conversation with a human judge to the extent that the judge is unable to distinguish reliably—on the basis of the conversational content alone—between the program and a real human.', \"The notoriety of Turing's proposed test stimulated great interest in Joseph Weizenbaum's program ELIZA, published in 1966, which seemed to be able to fool users into believing that they were conversing with a real human.\", 'However Weizenbaum himself did not claim that ELIZA was genuinely intelligent, and the introduction to his paper presented it more as a debunking exercise:\\n\\n[In] artificial intelligence ... machines are made to behave in wondrous ways, often sufficient to dazzle even the most experienced observer.', 'But once a particular program is unmasked, once its inner workings are explained ... its magic crumbles away; it stands revealed as a mere collection of procedures ...', 'The observer says to himself \"I could have written that\".', 'With that thought, he moves the program in question from the shelf marked \"intelligent\", to that reserved for curios ...', 'The object of this paper is to cause just such a re-evaluation of the program about to be \"explained\".', 'Few programs ever needed it more.', \"[7]\\n\\nELIZA's key method of operation (copied by chatbot designers ever since) involves the recognition of clue words or phrases in the input, and the output of the corresponding pre-prepared or pre-programmed responses that can move the conversation forward in an apparently meaningful way (e.g.\", \"by responding to any input that contains the word 'MOTHER' with 'TELL ME MORE ABOUT YOUR FAMILY').\", '[8] Thus an illusion of understanding is generated, even though the processing involved has been merely superficial.', 'ELIZA showed that such an illusion is surprisingly easy to generate because human judges are so ready to give the benefit of the doubt when conversational responses are capable of being interpreted as \"intelligent\".', \"Interface designers have come to appreciate that humans' readiness to interpret computer output as genuinely conversational—even when it is actually based on rather simple pattern-matching—can be exploited for useful purposes.\", 'Most people prefer to engage with programs that are human-like, and this gives chatbot-style techniques a potentially useful role in interactive systems that need to elicit information from users, as long as that information is relatively straightforward and falls into predictable categories.', 'Thus, for example, online help systems can usefully employ chatbot techniques to identify the area of help that users require, potentially providing a \"friendlier\" interface than a more formal search or menu system.', 'This sort of usage holds the prospect of moving chatbot technology from Weizenbaum\\'s \"shelf ... reserved for curios\" to that marked \"genuinely useful computational methods\".', 'Development [ edit ]\\n\\nAmong the most notable early chatbots are ELIZA (1966) and PARRY (1972).', '[9][10][11][12] More recent notable programs include A.L.I.C.E., Jabberwacky and D.U.D.E (Agence Nationale de la Recherche and CNRS 2006).', 'While ELIZA and PARRY were used exclusively to simulate typed conversation, many chatbots now include other functional features, such as games and web searching abilities.', \"In 1984, a book called The Policeman's Beard is Half Constructed was published, allegedly written by the chatbot Racter (though the program as released would not have been capable of doing so).\", '[13]\\n\\nOne pertinent field of AI research is natural-language processing.', 'Usually, weak AI fields employ specialized software or programming languages created specifically for the narrow function required.', 'For example, A.L.I.C.E.', 'uses a markup language called AIML,[2] which is specific to its function as a conversational agent, and has since been adopted by various other developers of, so-called, Alicebots.', 'Nevertheless, A.L.I.C.E.', 'is still purely based on pattern matching techniques without any reasoning capabilities, the same technique ELIZA was using back in 1966.', 'This is not strong AI, which would require sapience and logical reasoning abilities.', 'Jabberwacky learns new responses and context based on real-time user interactions, rather than being driven from a static database.', 'Some more recent chatbots also combine real-time learning with evolutionary algorithms that optimize their ability to communicate based on each conversation held.', 'Still, there is currently no general purpose conversational artificial intelligence, and some software developers focus on the practical aspect, information retrieval.', 'Chatbot competitions focus on the Turing test or more specific goals.', 'Two such annual contests are the Loebner Prize and The Chatterbox Challenge (the latter has been offline since 2015, however, materials can still be found from web archives).', '[14]\\n\\nChatbots may use the generative pre-trained transformer (GPT) language model.', 'It uses the transformer machine learning model.', 'The \"pre-training\" in its name refers to the initial training process on a large text corpus, which provides a solid foundation for the model to perform well on downstream tasks with limited amounts of task-specific data.', 'An example of a GPT chatbot is ChatGPT.', 'Despite criticism of its accuracy, ChatGPT has gained attention for its detailed responses and historical knowledge.', 'Another example is BioGPT, developed by Microsoft, which focuses on answering biomedical questions.', '[15][16]\\n\\nDBpedia created a chatbot during the GSoC of 2017.', '[17][18][19] It can communicate through Facebook Messenger.', \"Application [ edit ]\\n\\nMessaging apps [ edit ]\\n\\nMany companies' chatbots run on messaging apps or simply via SMS.\", 'They are used for B2C customer service, sales and marketing.', '[20]\\n\\nIn 2016, Facebook Messenger allowed developers to place chatbots on their platform.', 'There were 30,000 bots created for Messenger in the first six months, rising to 100,000 by September 2017.', '[21]\\n\\nSince September 2017, this has also been as part of a pilot program on WhatsApp.', 'Airlines KLM and Aeroméxico both announced their participation in the testing;[22][23][24][25] both airlines had previously launched customer services on the Facebook Messenger platform.', \"The bots usually appear as one of the user's contacts, but can sometimes act as participants in a group chat.\", 'Many banks, insurers, media companies, e-commerce companies, airlines, hotel chains, retailers, health care providers, government entities and restaurant chains have used chatbots to answer simple questions, increase customer engagement,[26] for promotion, and to offer additional ways to order from them.', '[27]\\n\\nA 2017 study showed 4% of companies used chatbots.', '[28] According to a 2016 study, 80% of businesses said they intended to have one by 2020.', '[29]\\n\\nAs part of company apps and websites [ edit ]\\n\\nPrevious generations of chatbots were present on company websites, e.g.', \"Ask Jenn from Alaska Airlines which debuted in 2008[30] or Expedia's virtual customer service agent which launched in 2011.\", '[30][31] The newer generation of chatbots includes IBM Watson-powered \"Rocky\", introduced in February 2017 by the New York City-based e-commerce company Rare Carat to provide information to prospective diamond buyers.', '[32][33]\\n\\nChatbot sequences [ edit ]\\n\\nUsed by marketers to script sequences of messages, very similar to an Autoresponder sequence.', 'Such sequences can be triggered by user opt-in or the use of keywords within user interactions.', 'After a trigger occurs a sequence of messages is delivered until the next anticipated user response.', 'Each user response is used in the decision tree to help the chatbot navigate the response sequences to deliver the correct response message.', 'Company internal platforms [ edit ]\\n\\nOther companies explore ways they can use chatbots internally, for example for Customer Support, Human Resources, or even in Internet-of-Things (IoT) projects.', 'Overstock.com, for one, has reportedly launched a chatbot named Mila to automate certain simple yet time-consuming processes when requesting sick leave.', '[34] Other large companies such as Lloyds Banking Group, Royal Bank of Scotland, Renault and Citroën are now using automated online assistants instead of call centres with humans to provide a first point of contact.', \"A SaaS chatbot business ecosystem has been steadily growing since the F8 Conference when Facebook's Mark Zuckerberg unveiled that Messenger would allow chatbots into the app.\", '[35] In large companies, like in hospitals and aviation organizations, IT architects are designing reference architectures for Intelligent Chatbots that are used to unlock and share knowledge and experience in the organization more efficiently, and reduce the errors in answers from expert service desks significantly.', '[36] These Intelligent Chatbots make use of all kinds of artificial intelligence like image moderation and natural-language understanding (NLU), natural-language generation (NLG), machine learning and deep learning.', 'Customer service [ edit ]\\n\\nMany high-tech banking organizations are looking to integrate automated AI-based solutions such as chatbots into their customer service in order to provide faster and cheaper assistance to their clients who are becoming increasingly comfortable with technology.', 'In particular, chatbots can efficiently conduct a dialogue, usually replacing other communication tools such as email, phone, or SMS.', 'In banking, their major application is related to quick customer service answering common requests, as well as transactional support.', 'Several studies report significant reduction in the cost of customer services, expected to lead to billions of dollars of economic savings in the next ten years.', '[37] In 2019, Gartner predicted that by 2021, 15% of all customer service interactions globally will be handled completely by AI.', '[38] A study by Juniper Research in 2019 estimates retail sales resulting from chatbot-based interactions will reach $112 billion by 2023.', '[39]\\n\\nSince 2016, when Facebook allowed businesses to deliver automated customer support, e-commerce guidance, content, and interactive experiences through chatbots, a large variety of chatbots were developed for the Facebook Messenger platform.', \"[40]\\n\\nIn 2016, Russia-based Tochka Bank launched the world's first Facebook bot for a range of financial services, including a possibility of making payments.\", '[41]\\n\\nIn July 2016, Barclays Africa also launched a Facebook chatbot, making it the first bank to do so in Africa.', \"[42]\\n\\nThe France's third-largest bank by total assets[43] Société Générale launched their chatbot called SoBot in March 2018.\", 'While 80% of users of the SoBot expressed their satisfaction after having tested it, Société Générale deputy director Bertrand Cozzarolo stated that it will never replace the expertise provided by a human advisor.', '[44]\\n\\nThe advantages of using chatbots for customer interactions in banking include cost reduction, financial advice, and 24/7 support.', '[45][46]\\n\\nHealthcare [ edit ]\\n\\nChatbots are also appearing in the healthcare industry.', '[47][48] A study suggested that physicians in the United States believed that chatbots would be most beneficial for scheduling doctor appointments, locating health clinics, or providing medication information.', '[49]\\n\\nWhatsapp has teamed up with the World Health Organisation (WHO) to make a chatbot service that answers users’ questions on COVID-19.', '[50]\\n\\nIn 2020, The Indian Government launched a chatbot called MyGov Corona Helpdesk,[51] that worked through Whatsapp and helped people access information about the Coronavirus (COVID-19) pandemic.', '[52][53]\\n\\nCertain patient groups are still reluctant to use chatbots.', 'A mixed-methods study showed that people are still hesitant to use chatbots for their healthcare due to poor understanding of the technological complexity, the lack of empathy, and concerns about cyber-security.', '[54] The analysis showed that while 6% had heard of a health chatbot and 3% had experience of using it, 67% perceived themselves as likely to use one within 12 months.', 'The majority of participants would use a health chatbot for seeking general health information (78%), booking a medical appointment (78%), and looking for local health services (80%).', 'However, a health chatbot was perceived as less suitable for seeking results of medical tests and seeking specialist advice such as sexual health.', 'The analysis of attitudinal variables showed that most participants reported their preference for discussing their health with doctors (73%) and having access to reliable and accurate health information (93%).', 'While 80% were curious about new technologies that could improve their health, 66% reported only seeking a doctor when experiencing a health problem and 65% thought that a chatbot was a good idea.', 'Interestingly, 30% reported dislike about talking to computers, 41% felt it would be strange to discuss health matters with a chatbot and about half were unsure if they could trust the advice given by a chatbot.', 'Therefore, perceived trustworthiness, individual attitudes towards bots, and dislike for talking to computers are the main barriers to health chatbots.', 'Politics [ edit ]\\n\\nIn New Zealand, the chatbot SAM – short for Semantic Analysis Machine[55] (made by Nick Gerritsen of Touchtech[56]) – has been developed.', 'It is designed to share its political thoughts, for example on topics such as climate change, healthcare and education, etc.', 'It talks to people through Facebook Messenger.', '[57][58][59][60]\\n\\nIn 2022, the chatbot \"Leader Lars\" or \"Leder Lars\" was nominated for The Synthetic Party to run in the Danish parliamentary election,[61] and was built by the artist collective Computer Lars.', '[62] Leader Lars differed from earlier virtual politicians by leading a political party and by not pretending to be an objective candidate.', '[63] This chatbot engaged in critical discussions on politics with users from around the world.', '[64]\\n\\nIn India, the state government has launched a chatbot for its Aaple Sarkar platform,[65] which provides conversational access to information regarding public services managed.', '[66][67]\\n\\nToys [ edit ]\\n\\nChatbots have also been incorporated into devices not primarily meant for computing, such as toys.', '[68]\\n\\nHello Barbie is an Internet-connected version of the doll that uses a chatbot provided by the company ToyTalk,[69] which previously used the chatbot for a range of smartphone-based characters for children.', \"[70] These characters' behaviors are constrained by a set of rules that in effect emulate a particular character and produce a storyline.\", \"[71]\\n\\nThe My Friend Cayla doll was marketed as a line of 18-inch (46 cm) dolls which uses speech recognition technology in conjunction with an Android or iOS mobile app to recognize the child's speech and have a conversation.\", \"It, like the Hello Barbie doll, attracted controversy due to vulnerabilities with the doll's Bluetooth stack and its use of data collected from the child's speech.\", \"IBM's Watson computer has been used as the basis for chatbot-based educational toys for companies such as CogniToys[68] intended to interact with children for educational purposes.\", '[72]\\n\\nMalicious use [ edit ]\\n\\nMalicious chatbots are frequently used to fill chat rooms with spam and advertisements, by mimicking human behavior and conversations or to entice people into revealing personal information, such as bank account numbers.', 'They were commonly found on Yahoo!', 'Messenger, Windows Live Messenger, AOL Instant Messenger and other instant messaging protocols.', \"There has also been a published report of a chatbot used in a fake personal ad on a dating service's website.\", '[73]\\n\\nTay, an AI chatbot that learns from previous interaction, caused major controversy due to it being targeted by internet trolls on Twitter.', 'The bot was exploited, and after 16 hours began to send extremely offensive Tweets to users.', 'This suggests that although the bot learned effectively from experience, adequate protection was not put in place to prevent misuse.', '[74]\\n\\nIf a text-sending algorithm can pass itself off as a human instead of a chatbot, its message would be more credible.', 'Therefore, human-seeming chatbots with well-crafted online identities could start scattering fake news that seems plausible, for instance making false claims during an election.', 'With enough chatbots, it might be even possible to achieve artificial social proof.', '[75][76]\\n\\nLimitations of chatbots [ edit ]\\n\\nThe creation and implementation of chatbots is still a developing area, heavily related to artificial intelligence and machine learning, so the provided solutions, while possessing obvious advantages, have some important limitations in terms of functionalities and use cases.', 'However, this is changing over time.', 'The most common limitations are listed below:[77]\\n\\nAs the input/output database is fixed and limited, chatbots can fail while dealing with an unsaved query.', \"[46]\\n\\nA chatbot's efficiency highly depends on language processing and is limited because of irregularities, such as accents and mistakes.\", 'Chatbots are unable to deal with multiple questions at the same time and so conversation opportunities are limited.', '[77]\\n\\nChatbots require a large amount of conversational data to train.', 'Generative models, which are based on deep learning algorithms to generate new responses word by word based on user input, are usually trained on a large dataset of natural-language phrases.', '[2]\\n\\nChatbots have difficulty managing non-linear conversations that must go back and forth on a topic with a user.', '[78]\\n\\nAs it happens usually with technology-led changes in existing services, some consumers, more often than not from older generations, are uncomfortable with chatbots due to their limited understanding, making it obvious that their requests are being dealt with by machines.', '[77]\\n\\nChatbots and jobs [ edit ]\\n\\nChatbots are increasingly present in businesses and often are used to automate tasks that do not require skill-based talents.', 'With customer service taking place via messaging apps as well as phone calls, there are growing numbers of use-cases where chatbot deployment gives organizations a clear return on investment.', 'Call center workers may be particularly at risk from AI-driven chatbots.', '[79]\\n\\nChatbot jobs\\n\\nChatbot developers create, debug, and maintain applications that automate customer services or other communication processes.', 'Their duties include reviewing and simplifying code when needed.', 'They may also help companies implement bots in their operations.', 'A study by Forrester (June 2017) predicted that 25% of all jobs would be impacted by AI technologies by 2019.', '[80]\\n\\nSee also [ edit ]\\n\\nReferences [ edit ]\\n\\nBibliography [ edit ]\\n\\nFurther reading [ edit ]']\n"
          ]
        }
      ],
      "source": [
        "#Print the list of sentences\n",
        "print(sentence_list)"
      ]
    },
    {
      "cell_type": "code",
      "execution_count": null,
      "metadata": {
        "id": "dQT5jTXaYrFu"
      },
      "outputs": [],
      "source": [
        "#A function to return a random greetiongs response to a users greetings\n",
        "def greeting_response(text):\n",
        "  text=text.lower()\n",
        "\n",
        "  #Bots Response\n",
        "  bot_greetings = ['Hello', 'Hey', 'Hola', 'Hi','Hi Im ISPY','ISPY here!','hey there']\n",
        "  #Users Greetings\n",
        "  user_greetings = ['hi', 'hello', 'hey','wassup','hey ISPY','hey ispy','Hi','Hii','Hi ispy','hi ispy','Hi ISPY','ispy','ISPY']\n",
        "\n",
        "  for word in text.split():\n",
        "    if word in user_greetings:\n",
        "      return random.choice(bot_greetings)"
      ]
    },
    {
      "cell_type": "code",
      "execution_count": null,
      "metadata": {
        "id": "ISWJFkXHa8TA"
      },
      "outputs": [],
      "source": [
        "def index_sort(list_var):\n",
        "  length=len(list_var)\n",
        "  list_index = list(range(0,length))\n",
        "\n",
        "  x = list_var\n",
        "  for i in range (length):\n",
        "    for j in range (length):\n",
        "      if x[list_index[i]] > x[list_index[j]]:\n",
        "        #Swap\n",
        "        temp = list_index[i]\n",
        "        list_index[i] = list_index[j]\n",
        "        list_index[j] = temp\n",
        "\n",
        "  return list_index"
      ]
    },
    {
      "cell_type": "code",
      "execution_count": null,
      "metadata": {
        "id": "lB-SX0Xfc1fl"
      },
      "outputs": [],
      "source": [
        "user_input='hello world'\n",
        "user_input = user_input.lower()\n",
        "sentence_list.append(user_input)\n",
        "bot_response = ''\n",
        "cm=CountVectorizer().fit_transform(sentence_list)\n",
        "similarity_scores = cosine_similarity(cm[-1],cm)\n",
        "similarity_scores_list = similarity_scores.flatten()\n",
        "index = index_sort(similarity_scores_list)"
      ]
    },
    {
      "cell_type": "code",
      "execution_count": null,
      "metadata": {
        "id": "-GulV-ljZ052"
      },
      "outputs": [],
      "source": [
        "#Create bot response\n",
        "def bot_response(user_input):\n",
        "  user_input = user_input.lower()\n",
        "  sentence_list.append(user_input)\n",
        "  bot_response = ''\n",
        "  cm=CountVectorizer().fit_transform(sentence_list)\n",
        "  similarity_scores = cosine_similarity(cm[-1],cm)\n",
        "  similarity_scores_list = similarity_scores.flatten()\n",
        "  index = index_sort(similarity_scores_list)\n",
        "  index=index[1:]\n",
        "  response_flag = 0\n",
        "\n",
        "  j = 0\n",
        "  for i in range(len(index)):\n",
        "    if similarity_scores_list[index[i]]>0.0:\n",
        "      bot_response = bot_response+''+sentence_list[index[i]]\n",
        "      response_flag = 1\n",
        "      j=j+1\n",
        "    if j>2:\n",
        "      break\n",
        "  if response_flag ==0:\n",
        "    bot_response = bot_response+''+\"I apologize, I dont understand.\"\n",
        "  sentence_list.remove(user_input)\n",
        "  return bot_response"
      ]
    },
    {
      "cell_type": "code",
      "execution_count": null,
      "metadata": {
        "colab": {
          "base_uri": "https://localhost:8080/"
        },
        "id": "f8kxOEaw6Z1p",
        "outputId": "3e51f021-4764-445a-ab5d-11d00569cd0c"
      },
      "outputs": [
        {
          "output_type": "execute_result",
          "data": {
            "text/plain": [
              "array([0.        , 0.        , 0.        , 0.        , 0.        ,\n",
              "       0.        , 0.        , 0.        , 0.        , 0.        ,\n",
              "       0.        , 0.        , 0.        , 0.        , 0.        ,\n",
              "       0.        , 0.        , 0.        , 0.        , 0.        ,\n",
              "       0.        , 0.        , 0.        , 0.        , 0.        ,\n",
              "       0.        , 0.        , 0.        , 0.        , 0.        ,\n",
              "       0.        , 0.        , 0.        , 0.        , 0.        ,\n",
              "       0.        , 0.        , 0.        , 0.        , 0.        ,\n",
              "       0.        , 0.        , 0.        , 0.        , 0.        ,\n",
              "       0.        , 0.        , 0.        , 0.        , 0.        ,\n",
              "       0.        , 0.        , 0.        , 0.        , 0.        ,\n",
              "       0.        , 0.        , 0.        , 0.        , 0.        ,\n",
              "       0.        , 0.        , 0.        , 0.        , 0.        ,\n",
              "       0.        , 0.        , 0.        , 0.        , 0.        ,\n",
              "       0.        , 0.        , 0.        , 0.        , 0.        ,\n",
              "       0.        , 0.        , 0.        , 0.14142136, 0.        ,\n",
              "       0.        , 0.        , 0.        , 0.        , 0.        ,\n",
              "       0.15075567, 0.        , 0.        , 0.        , 0.        ,\n",
              "       0.        , 0.        , 0.        , 0.        , 0.        ,\n",
              "       0.        , 0.        , 0.        , 0.        , 0.        ,\n",
              "       0.        , 0.18257419, 0.        , 0.        , 0.10540926,\n",
              "       0.        , 0.        , 0.12126781, 0.        , 0.        ,\n",
              "       0.        , 0.        , 0.        , 0.        , 0.        ,\n",
              "       0.        , 0.        , 0.        , 0.        , 0.        ,\n",
              "       0.        , 0.        , 0.        , 0.        , 0.        ,\n",
              "       0.        , 0.        , 0.        , 0.        , 0.        ,\n",
              "       0.        , 0.        , 0.        , 0.        , 0.        ,\n",
              "       0.        , 1.        ])"
            ]
          },
          "metadata": {},
          "execution_count": 15
        }
      ],
      "source": [
        "similarity_scores_list"
      ]
    },
    {
      "cell_type": "code",
      "execution_count": null,
      "metadata": {
        "colab": {
          "base_uri": "https://localhost:8080/"
        },
        "id": "C4Ob35UXgbT-",
        "outputId": "8ed8f632-7f85-4158-f56b-1f8f9ecc7f7b"
      },
      "outputs": [
        {
          "output_type": "stream",
          "name": "stdout",
          "text": [
            "Welcome to our customer Service station\n",
            "ISPY is our ChatBot that will takeover from here....\n",
            "hi\n",
            "ISPY :  Hello//\n",
            "what is chatbot?\n",
            "ISPY :  An example of a GPT chatbot is ChatGPT.[79]\n",
            "\n",
            "Chatbot jobs\n",
            "\n",
            "Chatbot developers create, debug, and maintain applications that automate customer services or other communication processes.[68]\n",
            "\n",
            "Hello Barbie is an Internet-connected version of the doll that uses a chatbot provided by the company ToyTalk,[69] which previously used the chatbot for a range of smartphone-based characters for children.//\n",
            "help\n",
            "ISPY :  What is your query \n",
            " 1.Facing problem with your Connection\n",
            " 2.Payment related Queries\n",
            " 3.Disconnect my Connection\n",
            " 4.Shift my Connection\n",
            " 5.Apply for new Connection\n",
            " 6.Reconnect my Connection\n",
            " 7.Value added services\n",
            " 8.Bill details\n",
            " 9.Disconnect Connection\n",
            "1\n",
            "Bot: Select ur problem\n",
            " a.My Internet is not working\n",
            " b.Check status\n",
            " or else enter thank you to exit\n",
            "bye\n",
            "Bot: ok then Chat with you later//\n"
          ]
        }
      ],
      "source": [
        "#Start chat\n",
        "print('Welcome to our customer Service station')\n",
        "print('ISPY is our ChatBot that will takeover from here....')\n",
        "exit_list = ['exit','bye', 'see you later', 'quit','ok','thank you','thank u','Bye','Ok','Thank you']\n",
        "query=['i have a query','i need some help','help','Help','i have a problem','I have a Problem','Customer care']\n",
        "while(True):\n",
        "  user_input = input()\n",
        "  if user_input.lower() in exit_list:\n",
        "    print(\"ISPY :  ok thenChat with you later\",end=\"//\\n\")\n",
        "    break\n",
        "  else:\n",
        "    if greeting_response(user_input)!= None:\n",
        "      print('ISPY :  '+greeting_response(user_input),end=\"//\\n\")\n",
        "    elif user_input.lower()not in query:\n",
        "      print('ISPY :  '+bot_response(user_input),end=\"//\\n\")\n",
        "    else:\n",
        "      print(\"ISPY :  What is your query \\n 1.Facing problem with your Connection\\n 2.Payment related Queries\\n 3.Disconnect my Connection\\n 4.Shift my Connection\\n 5.Apply for new Connection\\n 6.Reconnect my Connection\\n 7.Value added services\\n 8.Bill details\\n 9.Disconnect Connection\")\n",
        "      break\n",
        "\n",
        "dict1={'1':\"Select ur problem\\n a.My Internet is not working\\n b.Check status\\n or else enter thank you to exit\",'2':\"Select ur problem\\n A.I had made the payment but not reflecting\\n or else enter Thank you to exit\",'3':\"Ok sir ,our executives will reach you and will try to resolve your problem but still if you wanna disconnect your connection even that will be done\",'4':\"Can you please give the new address, so that your connection will be shifted\",'5':\"Ok sir our executive will reach you in couple of hours and they will help you to make a new connecion\",'6':\"What's your status of Connction \\n Active\\n Inactive\",'7':\" Netflix\\n Amazon Prime\\n ZEE5\",'8':\"How do i pay my Bill\\n Bill invoice\\n Due amount and Due date\",'9':\"Safe custody\\n Cancel Subscription\"}\n",
        "dict2={'a':\"Once restart the router and check the router antenna\",'b':\"Your Internet speed is moderate to increase speed take a new plan with high speed internet\"}\n",
        "dict3={'A':\" It seems your payment is still in process ,if you are not satisfied you can even contact our Cheif Executives (040 - 701701)\"}\n",
        "dict4={'Active':\"No problem with your connection ,your connection is already Active\",'Inactive':\"You will receive a text message and act accordingly\"}\n",
        "dict5={'Netflix':\"$9.99\",'Amazon Prime':\"$7.99\",'ZEE5':\"$4.99\"}\n",
        "dict6={'How do i pay my Bill':\"Credit card\\n Debit card\\n Net Banking\\n UPI\",'Bill invoice':\"Bill Invoice will be automatically sent to your registered mail\",'Due amount and Due date':\"Will be sent to your registered mobile and mail\"}\n",
        "dict7={'Safe custody':\"Temporarily Billing will be stopped and details will be kept safe,Thank You!\",'Cancel Subscription':\"Subscription will be cancelled,Thank you for choosing us ,Regards ISPY\"}\n",
        "while(True):\n",
        "  user_input=input()\n",
        "  if user_input.lower() in exit_list:\n",
        "    print(\"Bot: ok then Chat with you later\",end=\"//\\n\")\n",
        "    break\n",
        "  if user_input in dict1:\n",
        "    print(\"Bot:\",dict1[user_input])\n",
        "  if user_input in dict2:\n",
        "    print(\"Bot:\",dict2[user_input])\n",
        "  if user_input in dict3:\n",
        "    print(\"Bot:\",dict3[user_input])\n",
        "  if user_input in dict4:\n",
        "    print(\"Bot:\",dict4[user_input])\n",
        "  if user_input in dict5:\n",
        "    print(\"Bot:\",dict5[user_input])\n",
        "  if user_input in dict6:\n",
        "    print(\"Bot:\",dict6[user_input])\n",
        "  if user_input in dict7:\n",
        "    print(\"Bot:\",dict7[user_input])"
      ]
    }
  ],
  "metadata": {
    "colab": {
      "provenance": []
    },
    "kernelspec": {
      "display_name": "Python 3",
      "name": "python3"
    },
    "language_info": {
      "name": "python"
    }
  },
  "nbformat": 4,
  "nbformat_minor": 0
}